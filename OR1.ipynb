{
  "nbformat": 4,
  "nbformat_minor": 0,
  "metadata": {
    "colab": {
      "provenance": [],
      "authorship_tag": "ABX9TyOiXen/xYmknwFKCn9Bzi8T",
      "include_colab_link": true
    },
    "kernelspec": {
      "name": "python3",
      "display_name": "Python 3"
    },
    "language_info": {
      "name": "python"
    }
  },
  "cells": [
    {
      "cell_type": "markdown",
      "metadata": {
        "id": "view-in-github",
        "colab_type": "text"
      },
      "source": [
        "<a href=\"https://colab.research.google.com/github/Taniya2711/Data-Analysis-project/blob/main/OR1.ipynb\" target=\"_parent\"><img src=\"https://colab.research.google.com/assets/colab-badge.svg\" alt=\"Open In Colab\"/></a>"
      ]
    },
    {
      "cell_type": "code",
      "execution_count": 53,
      "metadata": {
        "colab": {
          "base_uri": "https://localhost:8080/"
        },
        "id": "OcqCG7Whg6Hu",
        "outputId": "f8faac90-216f-4b95-bd5b-de10c2deddb1"
      },
      "outputs": [
        {
          "output_type": "stream",
          "name": "stdout",
          "text": [
            "Requirement already satisfied: pulp in /usr/local/lib/python3.10/dist-packages (2.9.0)\n"
          ]
        }
      ],
      "source": [
        "!pip install   --upgrade pulp"
      ]
    },
    {
      "cell_type": "markdown",
      "source": [
        "#Simplex"
      ],
      "metadata": {
        "id": "DnLa4r1Ukvr-"
      }
    },
    {
      "cell_type": "code",
      "source": [
        "from pulp import *\n",
        "import pandas as pd\n",
        "import numpy as np"
      ],
      "metadata": {
        "id": "a07gjXTnhWJ8"
      },
      "execution_count": 2,
      "outputs": []
    },
    {
      "cell_type": "code",
      "source": [
        "lp_prob=LpProblem('Problem',LpMaximize)"
      ],
      "metadata": {
        "id": "Zhogudnnho5m"
      },
      "execution_count": 20,
      "outputs": []
    },
    {
      "cell_type": "code",
      "source": [
        "x=LpVariable('x',lowBound=0,cat=\"Integer\")\n",
        "y=LpVariable('y',lowBound=0,cat=\"Integer\")"
      ],
      "metadata": {
        "id": "LakXzhaWhotZ"
      },
      "execution_count": 21,
      "outputs": []
    },
    {
      "cell_type": "code",
      "source": [
        "lp_prob+=3*x+5*y"
      ],
      "metadata": {
        "id": "D1v6Evz1jEl4"
      },
      "execution_count": 22,
      "outputs": []
    },
    {
      "cell_type": "code",
      "source": [
        "lp_prob+=x<=4\n",
        "lp_prob+=2*y<=12\n",
        "lp_prob+=3*x+2*y<=18"
      ],
      "metadata": {
        "id": "c5CBTL5PjSit"
      },
      "execution_count": 30,
      "outputs": []
    },
    {
      "cell_type": "code",
      "source": [
        "status=lp_prob.solve()\n",
        "print([status])\n"
      ],
      "metadata": {
        "colab": {
          "base_uri": "https://localhost:8080/"
        },
        "id": "RJecjL7djrXH",
        "outputId": "a6360760-eb88-402a-f58e-e119e0fb0a6b"
      },
      "execution_count": 31,
      "outputs": [
        {
          "output_type": "stream",
          "name": "stdout",
          "text": [
            "[1]\n"
          ]
        }
      ]
    },
    {
      "cell_type": "code",
      "source": [
        "print(value(x),value(y),value(lp_prob.objective))"
      ],
      "metadata": {
        "colab": {
          "base_uri": "https://localhost:8080/"
        },
        "id": "RCBtNUpfj8k8",
        "outputId": "854ad335-c6c5-45c5-dbf1-b86ee9ec5561"
      },
      "execution_count": 32,
      "outputs": [
        {
          "output_type": "stream",
          "name": "stdout",
          "text": [
            "2.0 6.0 36.0\n"
          ]
        }
      ]
    },
    {
      "cell_type": "markdown",
      "source": [
        "#Transportation problem"
      ],
      "metadata": {
        "id": "Bdl0SBZxkzA8"
      }
    },
    {
      "cell_type": "code",
      "source": [
        "\n",
        "n_plants=3\n",
        "n_warehouse=4"
      ],
      "metadata": {
        "id": "Qdz-H3WJk1xL"
      },
      "execution_count": 35,
      "outputs": []
    },
    {
      "cell_type": "code",
      "source": [
        "cost_matrix=np.array([[10,2,20,11],\n",
        "                         [12,7,9,20],\n",
        "                         [4,14,16,18]])"
      ],
      "metadata": {
        "id": "Hydp-vVvlD3B"
      },
      "execution_count": 36,
      "outputs": []
    },
    {
      "cell_type": "code",
      "source": [
        "demand=np.array([5,15,15,15])"
      ],
      "metadata": {
        "id": "E2rolYPBlbxa"
      },
      "execution_count": 37,
      "outputs": []
    },
    {
      "cell_type": "code",
      "source": [
        "supply=np.array([15,25,10])"
      ],
      "metadata": {
        "id": "HX-qeQ7Ulng0"
      },
      "execution_count": 38,
      "outputs": []
    },
    {
      "cell_type": "code",
      "source": [
        "print(cost_matrix)"
      ],
      "metadata": {
        "colab": {
          "base_uri": "https://localhost:8080/"
        },
        "id": "gmT2tVoklulc",
        "outputId": "80157714-d1da-4484-89f0-5052ba573b12"
      },
      "execution_count": 39,
      "outputs": [
        {
          "output_type": "stream",
          "name": "stdout",
          "text": [
            "[[10  2 20 11]\n",
            " [12  7  9 20]\n",
            " [ 4 14 16 18]]\n"
          ]
        }
      ]
    },
    {
      "cell_type": "code",
      "source": [
        "Trans_prob=LpProblem('Transportation',LpMinimize)"
      ],
      "metadata": {
        "id": "0xsfzPQTlz7c"
      },
      "execution_count": 40,
      "outputs": []
    },
    {
      "cell_type": "code",
      "source": [
        "indices=[str(i)+str(j) for j in range (1,n_warehouse+1) for i in range(1,n_plants+1)]"
      ],
      "metadata": {
        "id": "UZt5usZ3l-X2"
      },
      "execution_count": 41,
      "outputs": []
    },
    {
      "cell_type": "code",
      "source": [
        "indices.sort()\n",
        "print(indices)"
      ],
      "metadata": {
        "colab": {
          "base_uri": "https://localhost:8080/"
        },
        "id": "YXeB-q_lmT0L",
        "outputId": "1b82a987-a0fc-4bc3-bec6-44ec44a39daf"
      },
      "execution_count": 43,
      "outputs": [
        {
          "output_type": "stream",
          "name": "stdout",
          "text": [
            "['11', '12', '13', '14', '21', '22', '23', '24', '31', '32', '33', '34']\n"
          ]
        }
      ]
    },
    {
      "cell_type": "code",
      "source": [
        "DV=LpVariable.matrix(\"X\",indices,cat=\"Integer\",lowBound=0)"
      ],
      "metadata": {
        "id": "W3F9TITcmeAb"
      },
      "execution_count": 45,
      "outputs": []
    },
    {
      "cell_type": "code",
      "source": [
        "X=np.array(DV).reshape(3,4)"
      ],
      "metadata": {
        "id": "LdLuifbbmvgR"
      },
      "execution_count": 46,
      "outputs": []
    },
    {
      "cell_type": "code",
      "source": [
        "print(X)"
      ],
      "metadata": {
        "colab": {
          "base_uri": "https://localhost:8080/"
        },
        "id": "_cSohvdYm4xx",
        "outputId": "08f5b40b-5b13-4608-e553-aeab520ebff3"
      },
      "execution_count": 47,
      "outputs": [
        {
          "output_type": "stream",
          "name": "stdout",
          "text": [
            "[[X_11 X_12 X_13 X_14]\n",
            " [X_21 X_22 X_23 X_24]\n",
            " [X_31 X_32 X_33 X_34]]\n"
          ]
        }
      ]
    },
    {
      "cell_type": "code",
      "source": [
        "from pulp import lpSum\n",
        "Trans_prob += lpSum(cost_matrix*X)"
      ],
      "metadata": {
        "id": "yeTsUK5am8IG"
      },
      "execution_count": 57,
      "outputs": []
    },
    {
      "cell_type": "code",
      "source": [
        "for i in range(n_plants):\n",
        "    Trans_prob+= lpSum(X[i][j] for j in range(n_warehouse))<=supply[i]"
      ],
      "metadata": {
        "id": "Ay_2XXk0nw2z"
      },
      "execution_count": 60,
      "outputs": []
    },
    {
      "cell_type": "code",
      "source": [
        "for j in range(n_warehouse):\n",
        "    Trans_prob+=lpSum(X[i][j] for i in range (n_plants))>=demand[j]"
      ],
      "metadata": {
        "id": "y1dmVROdpsjq"
      },
      "execution_count": 62,
      "outputs": []
    },
    {
      "cell_type": "code",
      "source": [
        "status=Trans_prob.solve()\n",
        "print(LpStatus[status])"
      ],
      "metadata": {
        "colab": {
          "base_uri": "https://localhost:8080/"
        },
        "id": "wfvzTsU6oIZS",
        "outputId": "eb9ef598-2fd6-4abb-8b10-37417c85c1ae"
      },
      "execution_count": 63,
      "outputs": [
        {
          "output_type": "stream",
          "name": "stdout",
          "text": [
            "Optimal\n"
          ]
        }
      ]
    },
    {
      "cell_type": "code",
      "source": [],
      "metadata": {
        "id": "baMiCFoXqWdu"
      },
      "execution_count": null,
      "outputs": []
    },
    {
      "cell_type": "code",
      "source": [
        "for variables in Trans_prob.variables():\n",
        " print(variables.name,\"=\",variables.value())"
      ],
      "metadata": {
        "colab": {
          "base_uri": "https://localhost:8080/"
        },
        "id": "ACgP_T8moSkU",
        "outputId": "29dc2385-2f0e-458b-923e-1a06d66a7bd8"
      },
      "execution_count": 67,
      "outputs": [
        {
          "output_type": "stream",
          "name": "stdout",
          "text": [
            "X_11 = 0.0\n",
            "X_12 = 5.0\n",
            "X_13 = 0.0\n",
            "X_14 = 10.0\n",
            "X_21 = 0.0\n",
            "X_22 = 10.0\n",
            "X_23 = 15.0\n",
            "X_24 = 0.0\n",
            "X_31 = 5.0\n",
            "X_32 = 0.0\n",
            "X_33 = 0.0\n",
            "X_34 = 5.0\n"
          ]
        }
      ]
    },
    {
      "cell_type": "code",
      "source": [],
      "metadata": {
        "id": "fVJXQU76qSIZ"
      },
      "execution_count": null,
      "outputs": []
    },
    {
      "cell_type": "code",
      "source": [],
      "metadata": {
        "id": "oDmUOpf8peR4"
      },
      "execution_count": null,
      "outputs": []
    }
  ]
}